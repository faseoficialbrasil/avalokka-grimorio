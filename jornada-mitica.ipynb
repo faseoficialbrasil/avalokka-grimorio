# Jornada Mítica 🧙‍♂️✨

Bem-vindo ao grimório interativo da Jornada Mítica.  
Aqui você embarcará em uma travessia simbólica inspirada nos arquétipos universais, narrativas míticas e o inconsciente coletivo.

> “O herói é aquele que encontra força para perseverar e transformar.” — Joseph Campbell

Vamos começar?

import ipywidgets as widgets
from IPython.display import display

arquétipos = ['O Herói', 'O Sábio', 'A Sombra', 'O Guardião', 'O Bobo', 'A Deusa']

dropdown = widgets.Dropdown(
    options=arquétipos,
    description='Escolha:',
    value='O Herói'
)

display(dropdown)
reflexoes = {
    'O Herói': "Você escolheu o Herói. Sua jornada é marcada por desafios, coragem e transformação.",
    'O Sábio': "Você escolheu o Sábio. Sua jornada é guiada pela busca do conhecimento e da verdade.",
    'A Sombra': "Você escolheu a Sombra. Sua jornada é o confronto com o desconhecido dentro de si.",
    'O Guardião': "Você escolheu o Guardião. Sua missão é proteger os limiares entre mundos.",
    'O Bobo': "Você escolheu o Bobo. Sua sabedoria está na irreverência e na espontaneidade.",
    'A Deusa': "Você escolheu a Deusa. Sua jornada é de criação, destruição e renascimento."
}

def mostrar_reflexao(arquetipo):
    print(reflexoes[arquetipo])

dropdown.observe(lambda change: mostrar_reflexao(change['new']), names='value')
